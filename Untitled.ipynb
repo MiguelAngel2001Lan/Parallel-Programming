{
 "cells": [
  {
   "cell_type": "code",
   "execution_count": 6,
   "id": "b2ea855f",
   "metadata": {},
   "outputs": [
    {
     "name": "stdout",
     "output_type": "stream",
     "text": [
      "Approximated value of pi: 3.1415946524138207\n"
     ]
    }
   ],
   "source": [
    "import time\n",
    "import pandas as pd\n",
    "from multiprocessing import cpu_count\n",
    "from noparallel import compute_pi\n",
    "from parallel import compute_pi_parallel\n",
    "\n",
    "def time_execution(func, N, processes=None):\n",
    "    start = time.time()\n",
    "    if processes:\n",
    "        func(N, processes)\n",
    "    else:\n",
    "        func(N)\n",
    "    end = time.time()\n",
    "    return end - start\n",
    "\n",
    "N_values = [100, 1000, 10000, 100000, 1000000,10000000,100000000,1000000000,10000000000]\n",
    "\n",
    "timing_results = []\n",
    "\n",
    "num_processes = cpu_count()\n",
    "\n",
    "for N in N_values:\n",
    "    time_no_parallel = time_execution(compute_pi, N)\n",
    "    time_parallel = time_execution(compute_pi_parallel, N, num_processes)\n",
    "    timing_results.append({\n",
    "        \"N\": N,\n",
    "        \"No Parallel (s)\": time_no_parallel,\n",
    "        \"Parallel (s)\": time_parallel\n",
    "    })\n"
   ]
  },
  {
   "cell_type": "code",
   "execution_count": 7,
   "id": "2814471a",
   "metadata": {},
   "outputs": [
    {
     "name": "stdout",
     "output_type": "stream",
     "text": [
      "             N  No Parallel (s)  Parallel (s)\n",
      "0          100         0.000000      0.176768\n",
      "1         1000         0.000999      0.127522\n",
      "2        10000         0.001999      0.128518\n",
      "3       100000         0.015003      0.130227\n",
      "4      1000000         0.157510      0.140037\n",
      "5     10000000         1.601233      0.262028\n",
      "6    100000000        15.580198      1.426786\n",
      "7   1000000000       160.165103     13.072256\n",
      "8  10000000000      3503.667229    468.777444\n"
     ]
    }
   ],
   "source": [
    "# Convert the list of dictionaries to a DataFrame\n",
    "results_df = pd.DataFrame(timing_results)\n",
    "\n",
    "# Display the DataFrame as a table\n",
    "print(results_df)\n"
   ]
  },
  {
   "cell_type": "code",
   "execution_count": 8,
   "id": "7cbbb2e8",
   "metadata": {},
   "outputs": [
    {
     "name": "stdout",
     "output_type": "stream",
     "text": [
      "         N      Time\n",
      "0      100  0.002023\n",
      "1     1000  0.002649\n",
      "2    10000  0.001028\n",
      "3   100000  0.003033\n",
      "4  1000000  0.015320\n"
     ]
    }
   ],
   "source": [
    "# Load the CSV file again, this time ensuring it has the right headers\n",
    "mpi_data = pd.read_csv('mpi_performance.csv', names=['N', 'Time'], header=None)\n",
    "print(mpi_data.head())\n"
   ]
  },
  {
   "cell_type": "code",
   "execution_count": 9,
   "id": "d10b72c4",
   "metadata": {},
   "outputs": [
    {
     "name": "stdout",
     "output_type": "stream",
     "text": [
      "             N  No Parallel (s)  Parallel (s)     MPI (s)\n",
      "0          100         0.000000      0.176768    0.002023\n",
      "1         1000         0.000999      0.127522    0.002649\n",
      "2        10000         0.001999      0.128518    0.001028\n",
      "3       100000         0.015003      0.130227    0.003033\n",
      "4      1000000         0.157510      0.140037    0.015320\n",
      "5     10000000         1.601233      0.262028    0.146585\n",
      "6    100000000        15.580198      1.426786    1.262221\n",
      "7   1000000000       160.165103     13.072256   12.574119\n",
      "8  10000000000      3503.667229    468.777444  170.287551\n"
     ]
    }
   ],
   "source": [
    "\n",
    "combined_df = pd.merge(results_df, mpi_data, on='N', how='left')\n",
    "combined_df.rename(columns={'Time': 'MPI (s)'}, inplace=True)\n",
    "print(combined_df)\n"
   ]
  },
  {
   "cell_type": "code",
   "execution_count": null,
   "id": "49349ae3",
   "metadata": {},
   "outputs": [],
   "source": []
  }
 ],
 "metadata": {
  "kernelspec": {
   "display_name": "Python 3 (ipykernel)",
   "language": "python",
   "name": "python3"
  },
  "language_info": {
   "codemirror_mode": {
    "name": "ipython",
    "version": 3
   },
   "file_extension": ".py",
   "mimetype": "text/x-python",
   "name": "python",
   "nbconvert_exporter": "python",
   "pygments_lexer": "ipython3",
   "version": "3.11.5"
  }
 },
 "nbformat": 4,
 "nbformat_minor": 5
}
